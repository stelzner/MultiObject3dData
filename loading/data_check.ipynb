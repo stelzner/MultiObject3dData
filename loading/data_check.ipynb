{
 "cells": [
  {
   "cell_type": "code",
   "execution_count": null,
   "metadata": {},
   "outputs": [],
   "source": [
    "from dataset import MultiObject3dDataset\n",
    "from utils import get_clustering_colors\n",
    "\n",
    "import matplotlib.pyplot as plt\n",
    "import numpy as np"
   ]
  },
  {
   "cell_type": "code",
   "execution_count": null,
   "metadata": {},
   "outputs": [],
   "source": [
    "dataset_name = 'clevr3d'\n",
    "#dataset_name = 'multishapenet'\n",
    "\n",
    "\n",
    "dataset = MultiObject3dDataset(f'../data/{dataset_name}', 'val', dataset=dataset_name,\n",
    "                               max_n=6, points_per_item=20000, do_frustum_culling=False)\n",
    "width = 320\n",
    "height = 240\n",
    "idx = 3"
   ]
  },
  {
   "cell_type": "code",
   "execution_count": null,
   "metadata": {},
   "outputs": [],
   "source": [
    "example = dataset.__getitem__(idx, noisy=False)"
   ]
  },
  {
   "cell_type": "code",
   "execution_count": null,
   "metadata": {},
   "outputs": [],
   "source": [
    "# Plot input view in 2D\n",
    "image = example.get('inputs')\n",
    "image = np.transpose(image, (1, 2, 0))\n",
    "\n",
    "input_depths = example['input_depths']\n",
    "\n",
    "print('Input image')\n",
    "plt.imshow(image)\n",
    "plt.show()\n",
    "\n",
    "print('Input depths')\n",
    "plt.imshow(input_depths)\n",
    "plt.show()\n",
    "\n",
    "print('Masks')\n",
    "masks = example['masks']\n",
    "mask_colors = get_clustering_colors(10)\n",
    "mask_idx = masks.argmax(0)\n",
    "\n",
    "print(masks.shape, mask_colors.shape)\n",
    "\n",
    "mask_img = np.einsum('khw,kc->hwc', masks, mask_colors[:masks.shape[0]])\n",
    "plt.imshow(mask_img)\n",
    "plt.show()"
   ]
  },
  {
   "cell_type": "code",
   "execution_count": null,
   "metadata": {},
   "outputs": [],
   "source": [
    "# Plot input view in 3D\n",
    "import plotly.express as px\n",
    "import plotly.graph_objects as go\n",
    "\n",
    "input_points = example['input_points']\n",
    "input_points_flat = np.reshape(input_points, (-1, 3))\n",
    "\n",
    "image_flat = np.reshape(image, (-1, 3))\n",
    "values_plotly  = [f'rgb{tuple((np.array(color)*255).astype(np.uint8))}' for color in image_flat]\n",
    "\n",
    "fig = px.scatter_3d()\n",
    "\n",
    "fig.add_trace(go.Scatter3d(x=input_points_flat[..., 0], y=input_points_flat[..., 1], z=input_points_flat[..., 2],\n",
    "                           mode='markers', name='surface', marker=dict(size=1, color=values_plotly)))\n",
    "min_c = input_points.min()\n",
    "max_c = input_points.max()\n",
    "full_scene = dict(   xaxis = dict(range=[min_c, max_c],),\n",
    "                     yaxis = dict(range=[min_c, max_c],),\n",
    "                     zaxis = dict(range=[min_c, max_c],),\n",
    "                     aspectratio=dict(x=1, y=1, z=1)\n",
    "                 )\n",
    "\n",
    "\n",
    "fig.update_layout(scene=full_scene, coloraxis_showscale=True, width=1000, height=750)\n"
   ]
  },
  {
   "cell_type": "code",
   "execution_count": null,
   "metadata": {},
   "outputs": [],
   "source": [
    "# Plot training points in 3D\n",
    "\n",
    "surface_points = example.get('surface_points')\n",
    "c_pos = example.get('camera_pos')\n",
    "empty_points = example.get('empty_points')\n",
    "\n",
    "values = example['values']\n",
    "values_plotly  = [f'rgb{tuple((np.array(color)*255).astype(np.uint8))}' for color in values]\n",
    "\n",
    "fig = px.scatter_3d()\n",
    "fig.add_trace(go.Scatter3d(x=surface_points[..., 0], y=surface_points[..., 1], z=surface_points[..., 2],\n",
    "                           mode='markers', name='surface', marker=dict(size=1, color=values_plotly)))\n",
    "fig.update_traces(marker=dict(size=1), selector=dict(mode='markers'))\n",
    "\n",
    "# We only plot 1000 of the empty points, to avoid making the plot to busy. Adjust as preferred.\n",
    "fig.add_trace(go.Scatter3d(x=empty_points[:1000, 0], y=empty_points[:1000, 1], z=empty_points[:1000, 2],\n",
    "                           marker=dict(size=1), mode='markers',\n",
    "                           name='empty'))\n",
    "\n",
    "\n",
    "fig.add_trace(go.Scatter3d(x=c_pos[:1], y=c_pos[1:2], z=c_pos[2:], marker=dict(size=3),\n",
    "                           marker_symbol='x', name='camera'))\n",
    "\n",
    "max_c = surface_points.max()\n",
    "min_c = surface_points.min()\n",
    "\n",
    "full_scene = dict(   xaxis = dict(range=[min_c, max_c],),\n",
    "                     yaxis = dict(range=[min_c, max_c],),\n",
    "                     zaxis = dict(range=[min_c, max_c],),\n",
    "                     aspectratio=dict(x=1, y=1, z=1)\n",
    "                 )\n",
    "\n",
    "fig.update_layout(scene=full_scene, coloraxis_showscale=False, width=1000, height=750)\n"
   ]
  },
  {
   "cell_type": "code",
   "execution_count": null,
   "metadata": {},
   "outputs": [],
   "source": []
  }
 ],
 "metadata": {
  "kernelspec": {
   "display_name": "Python 3",
   "language": "python",
   "name": "python3"
  },
  "language_info": {
   "codemirror_mode": {
    "name": "ipython",
    "version": 3
   },
   "file_extension": ".py",
   "mimetype": "text/x-python",
   "name": "python",
   "nbconvert_exporter": "python",
   "pygments_lexer": "ipython3",
   "version": "3.8.8"
  }
 },
 "nbformat": 4,
 "nbformat_minor": 4
}
